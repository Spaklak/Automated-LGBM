{
  "cells": [
    {
      "cell_type": "code",
      "execution_count": null,
      "metadata": {
        "id": "K5fKE5X0RRHf"
      },
      "outputs": [],
      "source": [
        "from class_df import ModelPipeline\n",
        "import numpy as np"
      ]
    },
    {
      "cell_type": "code",
      "execution_count": 9,
      "metadata": {
        "id": "UQMQS4W3VZKw"
      },
      "outputs": [],
      "source": [
        "e = ModelPipeline('your_path')"
      ]
    },
    {
      "cell_type": "markdown",
      "metadata": {
        "id": "8Nd0fBZtRRHl"
      },
      "source": [
        "### Подготовка данных\n",
        "\n",
        "Эту часть очень сложно оптимизировать, поскольку в зависимости от конкретной задачи у нас будут разные заполнения, но я добавил несколько методов (все они описаны в README.md) в класс ModelPipeline, которыми вы можете воспользоваться. Пример их использования приведен ниже, а также в example.ipynb"
      ]
    },
    {
      "cell_type": "code",
      "execution_count": null,
      "metadata": {
        "colab": {
          "base_uri": "https://localhost:8080/",
          "height": 335
        },
        "id": "IoiB3DVRRRHn",
        "outputId": "9bb4c387-b066-46c8-c67b-fec87c28af47"
      },
      "outputs": [],
      "source": [
        "e.get_target_distribution('target')"
      ]
    },
    {
      "cell_type": "code",
      "execution_count": null,
      "metadata": {
        "colab": {
          "base_uri": "https://localhost:8080/"
        },
        "id": "FYoX9j8JRRHp",
        "outputId": "3d027492-a680-4795-9f62-1346a310ac60"
      },
      "outputs": [],
      "source": [
        "e.dataset.duplicated().sum()"
      ]
    },
    {
      "cell_type": "code",
      "execution_count": null,
      "metadata": {},
      "outputs": [],
      "source": [
        "e.remove_dublicates()"
      ]
    },
    {
      "cell_type": "code",
      "execution_count": null,
      "metadata": {
        "colab": {
          "base_uri": "https://localhost:8080/",
          "height": 465
        },
        "id": "R51D6FCfpvbS",
        "outputId": "025cd6c3-c8c3-4840-cb7d-e41ca9163d7f"
      },
      "outputs": [],
      "source": [
        "e.plot_numeric_distribution(column='', bins=10, figsize=(5,5))"
      ]
    },
    {
      "cell_type": "code",
      "execution_count": null,
      "metadata": {},
      "outputs": [],
      "source": [
        "e.plot_categorical_distributions()"
      ]
    },
    {
      "cell_type": "code",
      "execution_count": null,
      "metadata": {},
      "outputs": [],
      "source": [
        "e.plot_multiple_numeric_distributions()"
      ]
    },
    {
      "cell_type": "code",
      "execution_count": 32,
      "metadata": {
        "id": "qgnEObPYpvbT"
      },
      "outputs": [],
      "source": [
        "e.fill_missing_with_mean('column')"
      ]
    },
    {
      "cell_type": "code",
      "execution_count": null,
      "metadata": {
        "colab": {
          "base_uri": "https://localhost:8080/",
          "height": 649
        },
        "id": "p5uchVLCRRHw",
        "outputId": "5168af1b-0a72-490e-b539-5af6defa1e3d"
      },
      "outputs": [],
      "source": [
        "e.misiing_data_summary()"
      ]
    },
    {
      "cell_type": "code",
      "execution_count": null,
      "metadata": {
        "colab": {
          "base_uri": "https://localhost:8080/"
        },
        "id": "FYe2MVYLRRHx",
        "outputId": "23f453aa-390e-4e33-e049-67818af1e737"
      },
      "outputs": [],
      "source": [
        "e.total_missing_data()"
      ]
    },
    {
      "cell_type": "code",
      "execution_count": null,
      "metadata": {
        "colab": {
          "base_uri": "https://localhost:8080/",
          "height": 1000
        },
        "id": "cLJ2sJ7DRRIB",
        "outputId": "ae786169-ac49-4300-edbb-bfd8c975c853"
      },
      "outputs": [],
      "source": [
        "e.plot_correlation_matrix()"
      ]
    },
    {
      "cell_type": "code",
      "execution_count": 48,
      "metadata": {
        "id": "m3saZf-K2v1V"
      },
      "outputs": [],
      "source": [
        "e.smart_report_html('report.html')"
      ]
    },
    {
      "cell_type": "markdown",
      "metadata": {
        "id": "RGlIuDalRRIC"
      },
      "source": [
        "### Разбиение данных"
      ]
    },
    {
      "cell_type": "code",
      "execution_count": 49,
      "metadata": {
        "id": "1if48BDvpvbX"
      },
      "outputs": [],
      "source": [
        "e.split_train_val_test(target_col='target')"
      ]
    },
    {
      "cell_type": "markdown",
      "metadata": {
        "id": "34-OwM8WRRIG"
      },
      "source": [
        "### Создание модели"
      ]
    },
    {
      "cell_type": "code",
      "execution_count": null,
      "metadata": {
        "colab": {
          "base_uri": "https://localhost:8080/"
        },
        "id": "TsnNcmk8pvbY",
        "outputId": "cbb861a3-859b-490a-f66e-035cbf1ada72"
      },
      "outputs": [],
      "source": [
        "e.fit_lgbm()"
      ]
    },
    {
      "cell_type": "code",
      "execution_count": null,
      "metadata": {
        "colab": {
          "base_uri": "https://localhost:8080/",
          "height": 1000
        },
        "id": "CwX3dQEjpvbY",
        "outputId": "081f908a-0230-4f46-f375-1fca59ea3e3d"
      },
      "outputs": [],
      "source": [
        "e.evaluate_model()"
      ]
    },
    {
      "cell_type": "code",
      "execution_count": null,
      "metadata": {
        "colab": {
          "base_uri": "https://localhost:8080/",
          "height": 1000
        },
        "id": "ap3s6n2VpvbY",
        "outputId": "f45d9ffe-4062-4137-8020-9b3814ae66ad"
      },
      "outputs": [],
      "source": [
        "e.shap_analysis(max_display=20)"
      ]
    },
    {
      "cell_type": "code",
      "execution_count": 56,
      "metadata": {
        "id": "bC6qC6TUpvbZ"
      },
      "outputs": [],
      "source": [
        "e.remove_low_shap_features(threshold=0.05)"
      ]
    },
    {
      "cell_type": "code",
      "execution_count": null,
      "metadata": {
        "colab": {
          "base_uri": "https://localhost:8080/",
          "height": 1000
        },
        "id": "DtJzUZfupvbZ",
        "outputId": "d879fdc5-e1ba-419f-c23c-229ada4eeae7"
      },
      "outputs": [],
      "source": [
        "e.plot_feature_selection_rfecv()"
      ]
    },
    {
      "cell_type": "code",
      "execution_count": null,
      "metadata": {
        "colab": {
          "base_uri": "https://localhost:8080/"
        },
        "id": "uqZ4lsoUpvbZ",
        "outputId": "a62f4459-e7fd-4025-e12f-4c3e7fda006b"
      },
      "outputs": [],
      "source": [
        "e.remove_features_rfe(n_features_to_select=6)"
      ]
    },
    {
      "cell_type": "code",
      "execution_count": null,
      "metadata": {
        "colab": {
          "base_uri": "https://localhost:8080/"
        },
        "id": "MmuSOIHZpvbZ",
        "outputId": "d73b4686-237a-45b9-a04f-1220f4fd0364"
      },
      "outputs": [],
      "source": [
        "e.PSI()"
      ]
    },
    {
      "cell_type": "code",
      "execution_count": null,
      "metadata": {
        "colab": {
          "base_uri": "https://localhost:8080/",
          "height": 1000
        },
        "id": "-Vs6MzimpvbZ",
        "outputId": "f352b682-98c5-4742-a936-000e7044da6b"
      },
      "outputs": [],
      "source": [
        "e.fit_lgbm()\n",
        "e.evaluate_model()"
      ]
    },
    {
      "cell_type": "markdown",
      "metadata": {
        "id": "M1GI4aimpvbZ"
      },
      "source": [
        "### Подбор гиперпараметров\n",
        "\n",
        "- depth - глубина\n",
        "- num_leaves - кол-во листьев\n",
        "- num_iterations - кол-во деревьев\n",
        "- min_child_samples - минимальное кол-во образцов в дочерних узлах\n",
        "- n_estimators - тоже кол-во деревьев"
      ]
    },
    {
      "cell_type": "code",
      "execution_count": null,
      "metadata": {
        "colab": {
          "base_uri": "https://localhost:8080/"
        },
        "id": "3n6GPMPepvbZ",
        "outputId": "b46bbf57-0ab9-4c20-a735-e2f01b64b8dd"
      },
      "outputs": [],
      "source": [
        "# можно вписать свои\n",
        "param_grid = {\n",
        "            'max_depth' : np.arange(1, 8,2),\n",
        "            'n_estimators': np.arange(5, 100, 20),\n",
        "            'num_leaves': np.arange(2, 100, 15),\n",
        "            'learning_rate': np.linspace(0.001, 0.99, num=5),\n",
        "            'min_data_in_leaf': np.arange(200, 1000, 200)\n",
        "        }\n",
        "\n",
        "e.grid_fit(param_grid)"
      ]
    },
    {
      "cell_type": "code",
      "execution_count": null,
      "metadata": {
        "colab": {
          "base_uri": "https://localhost:8080/",
          "height": 1000
        },
        "id": "UZlBRP_9pvba",
        "outputId": "a6ce675f-6e8f-4b86-a796-c7ab8c838187"
      },
      "outputs": [],
      "source": [
        "e.evaluate_grid_search_model()"
      ]
    },
    {
      "cell_type": "code",
      "execution_count": null,
      "metadata": {
        "colab": {
          "base_uri": "https://localhost:8080/"
        },
        "id": "WLffGZj33zoD",
        "outputId": "7e6069d9-a329-4ff4-9bfe-5375dadd326d"
      },
      "outputs": [],
      "source": [
        "e.evaluate_grid_search_model()"
      ]
    },
    {
      "cell_type": "code",
      "execution_count": 64,
      "metadata": {
        "id": "8lejlipPpvba"
      },
      "outputs": [],
      "source": [
        "e.save_grid_model_pickle()"
      ]
    }
  ],
  "metadata": {
    "accelerator": "TPU",
    "colab": {
      "gpuType": "V28",
      "provenance": []
    },
    "kernelspec": {
      "display_name": "Python 3",
      "language": "python",
      "name": "python3"
    },
    "language_info": {
      "codemirror_mode": {
        "name": "ipython",
        "version": 3
      },
      "file_extension": ".py",
      "mimetype": "text/x-python",
      "name": "python",
      "nbconvert_exporter": "python",
      "pygments_lexer": "ipython3",
      "version": "3.10.12"
    }
  },
  "nbformat": 4,
  "nbformat_minor": 0
}
